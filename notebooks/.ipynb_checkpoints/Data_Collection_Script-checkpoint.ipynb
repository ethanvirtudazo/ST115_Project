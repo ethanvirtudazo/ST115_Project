{
 "cells": [
  {
   "cell_type": "code",
   "execution_count": 1,
   "metadata": {},
   "outputs": [],
   "source": [
    "import requests\n",
    "from bs4 import BeautifulSoup"
   ]
  },
  {
   "cell_type": "code",
   "execution_count": 2,
   "metadata": {},
   "outputs": [
    {
     "name": "stdout",
     "output_type": "stream",
     "text": [
      "<Response [200]>\n"
     ]
    }
   ],
   "source": [
    "response_html = requests.get(\"https://info.lse.ac.uk/Staff/Departments-and-Institutes?utm_source=About+departments+institutes&amp;utm_medium=Homepage+mega+menu&amp;utm_campaign=LSE+Homepage\")\n",
    "print(response_html)\n",
    "soup = BeautifulSoup(response_html.text)"
   ]
  },
  {
   "cell_type": "code",
   "execution_count": 3,
   "metadata": {},
   "outputs": [
    {
     "data": {
      "text/plain": [
       "['http://www.lse.ac.uk/accounting/Home.aspx',\n",
       " 'http://www.lse.ac.uk/anthropology/home.aspx',\n",
       " 'https://www.lse.ac.uk/dsi',\n",
       " 'http://www.lse.ac.uk/economics/home.aspx',\n",
       " 'http://www.lse.ac.uk/Economic-History',\n",
       " 'http://www.lse.ac.uk/european-institute',\n",
       " 'http://www.lse.ac.uk/Finance',\n",
       " 'https://www.lse.ac.uk/africa',\n",
       " 'http://www.lse.ac.uk/Gender',\n",
       " 'http://www.lse.ac.uk/Geography-and-Environment',\n",
       " 'http://www.lse.ac.uk/government/home.aspx',\n",
       " 'http://www.lse.ac.uk/health-policy',\n",
       " 'http://www.lse.ac.uk/international-development',\n",
       " 'http://www.lse.ac.uk/International-History',\n",
       " 'http://www.lse.ac.uk/International-Inequalities',\n",
       " 'http://www.lse.ac.uk/International-Relations',\n",
       " 'http://www.lse.ac.uk/language-centre',\n",
       " 'https://www.lse.ac.uk/law',\n",
       " 'http://www.lse.ac.uk/management/home.aspx',\n",
       " 'http://www.lse.ac.uk/Marshall-Institute',\n",
       " 'http://www.lse.ac.uk/Mathematics',\n",
       " 'http://www.lse.ac.uk/media-and-communications',\n",
       " 'http://www.lse.ac.uk/methodology',\n",
       " 'http://www.lse.ac.uk/philosophy/',\n",
       " 'http://www.lse.ac.uk/PBS',\n",
       " 'http://www.lse.ac.uk/school-of-public-policy',\n",
       " 'http://www.lse.ac.uk/social-policy',\n",
       " 'http://www.lse.ac.uk/sociology/Home.aspx',\n",
       " 'http://www.lse.ac.uk/statistics/home.aspx']"
      ]
     },
     "execution_count": 3,
     "metadata": {},
     "output_type": "execute_result"
    }
   ],
   "source": [
    "links_to_dep = []\n",
    "ul_block = soup.find_all(\"div\", attrs={\"class\":\"slice--light\"})[0].find_all(\"li\")\n",
    "ul_block\n",
    "\n",
    "all_dep = []\n",
    "\n",
    "links_to_staff = [] \n",
    "\n",
    "for ul in ul_block:\n",
    "    dep_link = ul.find('a')['href']\n",
    "    all_dep.append(dep_link)\n",
    "\n",
    "all_dep"
   ]
  }
 ],
 "metadata": {
  "kernelspec": {
   "display_name": "Python 3",
   "language": "python",
   "name": "python3"
  },
  "language_info": {
   "codemirror_mode": {
    "name": "ipython",
    "version": 3
   },
   "file_extension": ".py",
   "mimetype": "text/x-python",
   "name": "python",
   "nbconvert_exporter": "python",
   "pygments_lexer": "ipython3",
   "version": "3.7.6"
  }
 },
 "nbformat": 4,
 "nbformat_minor": 4
}
